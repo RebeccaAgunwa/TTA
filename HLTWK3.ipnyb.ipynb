{
 "cells": [
  {
   "cell_type": "code",
   "execution_count": 5,
   "metadata": {},
   "outputs": [
    {
     "ename": "SyntaxError",
     "evalue": "EOL while scanning string literal (Temp/ipykernel_39880/300624381.py, line 18)",
     "output_type": "error",
     "traceback": [
      "\u001b[1;36m  File \u001b[1;32m\"C:\\Users\\ucyle\\AppData\\Local\\Temp/ipykernel_39880/300624381.py\"\u001b[1;36m, line \u001b[1;32m18\u001b[0m\n\u001b[1;33m    my_file.write(\"\\n we have a short list)\u001b[0m\n\u001b[1;37m                                           ^\u001b[0m\n\u001b[1;31mSyntaxError\u001b[0m\u001b[1;31m:\u001b[0m EOL while scanning string literal\n"
     ]
    }
   ],
   "source": [
    "#task1 \n",
    "my_file = open(\"numbers.txt\", \"w\")\n",
    "numbers_list = [8, 65, 40, 72]\n",
    "for numbers in numbers_list:\n",
    "    my_file.write(str(numbers))\n",
    "    my_file.write('\\n')\n",
    "my_file.close()\n",
    "\n",
    "#reading\n",
    "with open(\"numbers.txt\", \"r\") as my_file:\n",
    "    data = my_file.read().replace('\\n', ',')\n",
    "    print(data)\n",
    "my_file.close()\n",
    "\n",
    "\n",
    "#appending\n",
    "my_file = open(\"numbers.txt\", \"a\")\n",
    "my_file.write(\"\\n we have a short list)\n",
    "my_file.close()\n",
    "\n",
    "\n",
    "\n",
    "\n",
    "\n",
    "\n",
    "\n",
    "    \n",
    "    \n"
   ]
  },
  {
   "cell_type": "code",
   "execution_count": 30,
   "metadata": {},
   "outputs": [
    {
     "name": "stdout",
     "output_type": "stream",
     "text": [
      "A\n"
     ]
    }
   ],
   "source": [
    "#task 2\n",
    "percentage_mark = int(input(\"What is your percentage mark\"))\n",
    "if percentage_mark >= 80:\n",
    "    print(\"A\")\n",
    "\n",
    "def function_grade(percentage_mark):\n",
    "    print(percentage_mark)"
   ]
  },
  {
   "cell_type": "code",
   "execution_count": 47,
   "metadata": {},
   "outputs": [
    {
     "name": "stdout",
     "output_type": "stream",
     "text": [
      "[0 1 2 3 4 5 6 7 8 9]\n",
      "[[ True  True  True  True]\n",
      " [ True  True  True  True]\n",
      " [ True  True  True  True]]\n",
      "[ 1  2  3  4  5  6  7  8  9 10]\n",
      "[ 1  2  3  4  5  6  7  8  9 10]\n",
      "[-1  2 -1  4 -1  6 -1  8 -1 10]\n",
      "[[ 1  2  3  4  5]\n",
      " [ 6  7  8  9 10]]\n",
      "[[1 2 3]\n",
      " [4 5 6]\n",
      " [7 8 9]]\n",
      "[[11 12 13]\n",
      " [14 15 16]\n",
      " [17 18 19]]\n",
      "[[ 90  96 102]\n",
      " [216 231 246]\n",
      " [342 366 390]]\n"
     ]
    }
   ],
   "source": [
    "#task 3\n",
    "#1\n",
    "import numpy as np\n",
    "array = np.arange(0, 10)\n",
    "print(array)\n",
    "\n",
    "#2\n",
    "bool_array = np.ones((3,4), dtype=bool)\n",
    "print(bool_array)\n",
    "\n",
    "#3\n",
    "array = np.arange(1, 11)\n",
    "print(array)\n",
    "array[1::2]\n",
    "\n",
    "#4\n",
    "array = np.arange(1, 11)\n",
    "print(array)\n",
    "array[array%2==1] = -1\n",
    "print(array)\n",
    "\n",
    "\n",
    "#5\n",
    "array = np.array([1, 2, 3, 4, 5, 6, 7, 8, 9, 10])\n",
    "newArray = np.reshape(array, (2, 5))\n",
    "print(newArray)\n",
    "\n",
    "\n",
    "#6\n",
    "a = np.arange(1, 10).reshape(3,3)\n",
    "b= np.arange(11, 20).reshape(3,3)\n",
    "print(a)\n",
    "print(b)\n",
    "c = np.dot(a, b)\n",
    "print(c)\n",
    "total_sum =np.sum(c)\n"
   ]
  }
 ],
 "metadata": {
  "interpreter": {
   "hash": "e922dd073470bdcc017ae3abd31d6491d6ed7bf31c1d559806e5511bfea88b81"
  },
  "kernelspec": {
   "display_name": "Python 3.9.7 64-bit",
   "name": "python3"
  },
  "language_info": {
   "codemirror_mode": {
    "name": "ipython",
    "version": 3
   },
   "file_extension": ".py",
   "mimetype": "text/x-python",
   "name": "python",
   "nbconvert_exporter": "python",
   "pygments_lexer": "ipython3",
   "version": "3.9.7"
  },
  "orig_nbformat": 4
 },
 "nbformat": 4,
 "nbformat_minor": 2
}
