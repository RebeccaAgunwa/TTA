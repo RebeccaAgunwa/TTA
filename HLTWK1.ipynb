{
 "cells": [
  {
   "cell_type": "code",
   "execution_count": 29,
   "source": [
    "#task2\r\n",
    "import random\r\n",
    "number = random.randint (1, 100)\r\n",
    "guess = int(input(\"Guess a number between 1 and 100: \"))\r\n",
    "if guess == number:\r\n",
    "    print(\"why is 6 scared of seven?\" + \"Because seven, eight, nine\")\r\n",
    "    print(\"what ten things that can always be count on?\" + \" our fingers\")\r\n",
    "    print(\"How can you make seven into an even number?\" + \" You can make seven by removing the S\")"
   ],
   "outputs": [],
   "metadata": {}
  },
  {
   "cell_type": "code",
   "execution_count": 102,
   "source": [
    "#task3\r\n",
    "\r\n",
    "main_course = \" rice \"\r\n",
    "dessert = \" cake \"\r\n",
    "drink = \" sherry \"\r\n",
    "sentence = \"Your favorite meal is\" + \" crisps, \" + \"rice\" + \" with a glass of sherry\"\r\n",
    "print(sentence)\r\n"
   ],
   "outputs": [
    {
     "output_type": "stream",
     "name": "stdout",
     "text": [
      "Your favorite meal is crisps, rice with a glass of sherry\n"
     ]
    }
   ],
   "metadata": {}
  },
  {
   "cell_type": "code",
   "execution_count": 32,
   "source": [
    "#task 4\r\n",
    "yearly_motorbike_depreciation = ['1800','1600','1400','1200','1000','800']\r\n",
    "for item in yearly_motorbike_depreciation:\r\n",
    "    print(item)\r\n"
   ],
   "outputs": [
    {
     "output_type": "stream",
     "name": "stdout",
     "text": [
      "1800\n",
      "1600\n",
      "1400\n",
      "1200\n",
      "1000\n",
      "800\n"
     ]
    }
   ],
   "metadata": {}
  },
  {
   "cell_type": "code",
   "execution_count": 36,
   "source": [
    "#task5\r\n",
    "num1 = 20\r\n",
    "num2 = 10\r\n",
    "answer = num1/num2\r\n",
    "print(answer)\r\n",
    "answer = num1+num2\r\n",
    "print(answer)\r\n",
    "answer = num1*num2\r\n",
    "print(answer)\r\n",
    "answer = num1**num2\r\n",
    "print(answer)\r\n"
   ],
   "outputs": [
    {
     "output_type": "stream",
     "name": "stdout",
     "text": [
      "2.0\n",
      "30\n",
      "200\n"
     ]
    }
   ],
   "metadata": {}
  }
 ],
 "metadata": {
  "orig_nbformat": 4,
  "language_info": {
   "name": "python",
   "version": "3.9.7",
   "mimetype": "text/x-python",
   "codemirror_mode": {
    "name": "ipython",
    "version": 3
   },
   "pygments_lexer": "ipython3",
   "nbconvert_exporter": "python",
   "file_extension": ".py"
  },
  "kernelspec": {
   "name": "python3",
   "display_name": "Python 3.9.7 64-bit"
  },
  "interpreter": {
   "hash": "e922dd073470bdcc017ae3abd31d6491d6ed7bf31c1d559806e5511bfea88b81"
  }
 },
 "nbformat": 4,
 "nbformat_minor": 2
}