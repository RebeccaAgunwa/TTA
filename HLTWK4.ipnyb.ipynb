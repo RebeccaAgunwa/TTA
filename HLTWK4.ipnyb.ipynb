{
 "cells": [
  {
   "cell_type": "code",
   "execution_count": 46,
   "metadata": {},
   "outputs": [
    {
     "name": "stdout",
     "output_type": "stream",
     "text": [
      "         Countries  Feedback Score  Average Hotel Rating  \\\n",
      "0           Guyana               7                     5   \n",
      "1          Vietnam               8                     4   \n",
      "2          Finland               7                     6   \n",
      "3            Ghana               7                     5   \n",
      "4            Spain               8                     9   \n",
      "5       Costa Rica               9                    10   \n",
      "6           Hawaii               9                     7   \n",
      "7         Portugal               6                     8   \n",
      "8         Thailand               8                     7   \n",
      "9            Malta               7                     9   \n",
      "10          France               8                     6   \n",
      "11  United Kingdom               7                     5   \n",
      "12         Germany               6                     8   \n",
      "13           Italy               5                     7   \n",
      "14          Greece              10                     8   \n",
      "\n",
      "    All Inclusive Hotels Most Visited  \n",
      "0                      4   Georgetown  \n",
      "1                      6        Hanoi  \n",
      "2                      5     Helenski  \n",
      "3                      3        Accra  \n",
      "4                      7       Madrid  \n",
      "5                      8     San Jose  \n",
      "6                      6     Honolulu  \n",
      "7                      7       Lisbon  \n",
      "8                      4      Bangkok  \n",
      "9                      4      Valleta  \n",
      "10                     7        Paris  \n",
      "11                     6       London  \n",
      "12                     7       Berlin  \n",
      "13                     6         Rome  \n",
      "14                     9       Athens  \n",
      "    Countries  Feedback Score  Average Hotel Rating  All Inclusive Hotels  \\\n",
      "2     Finland               7                     6                     5   \n",
      "3       Ghana               7                     5                     3   \n",
      "4       Spain               8                     9                     7   \n",
      "5  Costa Rica               9                    10                     8   \n",
      "6      Hawaii               9                     7                     6   \n",
      "7    Portugal               6                     8                     7   \n",
      "\n",
      "  Most Visited  \n",
      "2     Helenski  \n",
      "3        Accra  \n",
      "4       Madrid  \n",
      "5     San Jose  \n",
      "6     Honolulu  \n",
      "7       Lisbon  \n"
     ]
    },
    {
     "data": {
      "text/plain": [
       "'Vietnam'"
      ]
     },
     "execution_count": 46,
     "metadata": {},
     "output_type": "execute_result"
    }
   ],
   "source": [
    "\n",
    "import pandas as pd\n",
    "destinations = {\"Countries\": [\"Guyana\", \"Vietnam\", \"Finland\", \"Ghana\", \"Spain\", \"Costa Rica\", \"Hawaii\", \"Portugal\", \"Thailand\", \"Malta\", \"France\", \"United Kingdom\", \"Germany\", \"Italy\", \"Greece\"], \"Feedback Score\": [7, 8, 7, 7, 8, 9, 9, 6, 8, 7, 8, 7, 6, 5, 10], \"Average Hotel Rating\": [5, 4, 6, 5, 9, 10, 7, 8, 7, 9, 6, 5, 8, 7, 8], \"All Inclusive Hotels\":[4, 6, 5, 3, 7, 8, 6, 7, 4, 4, 7, 6, 7, 6, 9], \"Most Visited\": [\"Georgetown\", \"Hanoi\", \"Helenski\", \"Accra\", \"Madrid\", \"San Jose\", \"Honolulu\", \"Lisbon\", \"Bangkok\", \"Valleta\", \"Paris\", \"London\", \"Berlin\", \"Rome\", \"Athens\"]}\n",
    "myframe = pd.DataFrame(destinations)\n",
    "print(myframe)\n",
    "print(myframe.iloc[2:8])\n",
    "myframe[\"All Inclusive Hotels\"].mean()\n",
    "myfilter =  myframe[\"All Inclusive Hotels\"] > 9\n",
    "myframe['Countries'].min()\n",
    "myframe['Countries'].max()\n",
    "\n",
    "\n"
   ]
  }
 ],
 "metadata": {
  "interpreter": {
   "hash": "ac59ebe37160ed0dfa835113d9b8498d9f09ceb179beaac4002f036b9467c963"
  },
  "kernelspec": {
   "display_name": "Python 3.9.7 64-bit",
   "name": "python3"
  },
  "language_info": {
   "codemirror_mode": {
    "name": "ipython",
    "version": 3
   },
   "file_extension": ".py",
   "mimetype": "text/x-python",
   "name": "python",
   "nbconvert_exporter": "python",
   "pygments_lexer": "ipython3",
   "version": "3.9.7"
  },
  "orig_nbformat": 4
 },
 "nbformat": 4,
 "nbformat_minor": 2
}
